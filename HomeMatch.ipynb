{
 "cells": [
  {
   "cell_type": "markdown",
   "id": "a108af04",
   "metadata": {},
   "source": [
    "This is a starter notebook for the project, you'll have to import the libraries you'll need, you can find a list of the ones available in this workspace in the requirements.txt file in this workspace. "
   ]
  },
  {
   "cell_type": "markdown",
   "id": "94f5fea171213889",
   "metadata": {},
   "source": [
    "# Step 0: Load the Vocareum Key and Initialize the Model"
   ]
  },
  {
   "cell_type": "code",
   "execution_count": null,
   "id": "7acf50522a55436b",
   "metadata": {},
   "outputs": [],
   "source": [
    "from src.vocareum import load_vocareum_key\n",
    "\n",
    "\n",
    "load_vocareum_key()"
   ]
  },
  {
   "cell_type": "markdown",
   "id": "8fe938aedfb4594f",
   "metadata": {},
   "source": [
    "# Step 1: Setting Up the Python Application and Load the Model"
   ]
  },
  {
   "cell_type": "code",
   "execution_count": null,
   "id": "b4dec2cd9e30b106",
   "metadata": {},
   "outputs": [],
   "source": [
    "from src.model import Model\n",
    "from src.schemas import PropertyDetails, print_schemas, CreateRealEstateListingsPrompt"
   ]
  },
  {
   "cell_type": "code",
   "execution_count": null,
   "id": "5116ad77564da5b7",
   "metadata": {},
   "outputs": [],
   "source": [
    "llm = Model().llm"
   ]
  },
  {
   "cell_type": "markdown",
   "id": "589230e2b9f8c1cc",
   "metadata": {},
   "source": [
    "# Step 2: Generating Real Estate Listings"
   ]
  },
  {
   "cell_type": "code",
   "execution_count": null,
   "id": "19ad6213afd3b172",
   "metadata": {},
   "outputs": [],
   "source": [
    "property_example = PropertyDetails(\n",
    "    neighborhood=\"Green Oaks\",\n",
    "    price=800000,\n",
    "    bedrooms=3,\n",
    "    bathrooms=2,\n",
    "    house_size=2000,\n",
    "    description=\"Welcome to this eco-friendly oasis nestled in the heart of Green Oaks. This charming 3-bedroom, 2-bathroom home boasts energy-efficient features such as solar panels and a well-insulated structure. Natural light floods the living spaces, highlighting the beautiful hardwood floors and eco-conscious finishes. The open-concept kitchen and dining area lead to a spacious backyard with a vegetable garden, perfect for the eco-conscious family. Embrace sustainable living without compromising on style in this Green Oaks gem.\",\n",
    "    neighborhood_description=\"Green Oaks is a close-knit, environmentally-conscious community with access to organic grocery stores, community gardens, and bike paths. Take a stroll through the nearby Green Oaks Park or grab a cup of coffee at the cozy Green Bean Cafe. With easy access to public transportation and bike lanes, commuting is a breeze.\"\n",
    ")\n",
    "property_example_text = print_schemas(property_example)"
   ]
  },
  {
   "cell_type": "code",
   "execution_count": null,
   "id": "b85b019801f4278b",
   "metadata": {},
   "outputs": [],
   "source": [
    "real_state_listings_prompt = CreateRealEstateListingsPrompt()"
   ]
  },
  {
   "cell_type": "code",
   "execution_count": null,
   "id": "cc62e67c4a67ae47",
   "metadata": {},
   "outputs": [],
   "source": [
    "query = real_state_listings_prompt.prepare_query(property_example_text=property_example_text)\n",
    "response = llm.invoke(query)\n",
    "df = real_state_listings_prompt.convert_response_to_df(response)\n",
    "df.head(3)"
   ]
  },
  {
   "cell_type": "markdown",
   "id": "d7ba24abe0a8c866",
   "metadata": {},
   "source": [
    "# Step 3: Storing Listings in a Vector Database"
   ]
  },
  {
   "cell_type": "code",
   "execution_count": null,
   "id": "e34df5ab5b1edd94",
   "metadata": {},
   "outputs": [],
   "source": []
  }
 ],
 "metadata": {
  "kernelspec": {
   "display_name": "Python 3 (ipykernel)",
   "language": "python",
   "name": "python3"
  },
  "language_info": {
   "codemirror_mode": {
    "name": "ipython",
    "version": 3
   },
   "file_extension": ".py",
   "mimetype": "text/x-python",
   "name": "python",
   "nbconvert_exporter": "python",
   "pygments_lexer": "ipython3",
   "version": "3.12.3"
  }
 },
 "nbformat": 4,
 "nbformat_minor": 5
}
